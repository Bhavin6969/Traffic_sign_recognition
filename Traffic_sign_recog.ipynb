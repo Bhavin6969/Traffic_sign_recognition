{
  "cells": [
    {
      "cell_type": "markdown",
      "metadata": {
        "id": "view-in-github",
        "colab_type": "text"
      },
      "source": [
        "<a href=\"https://colab.research.google.com/github/Bhavin6969/Traffic_sign_recognition/blob/main/Traffic_sign_recog.ipynb\" target=\"_parent\"><img src=\"https://colab.research.google.com/assets/colab-badge.svg\" alt=\"Open In Colab\"/></a>"
      ]
    },
    {
      "cell_type": "code",
      "execution_count": null,
      "metadata": {
        "id": "HeREMonSmO7g"
      },
      "outputs": [],
      "source": [
        "import numpy as np\n",
        "import pandas as pd\n",
        "import matplotlib.pyplot as plt\n",
        "import cv2"
      ]
    },
    {
      "cell_type": "code",
      "execution_count": null,
      "metadata": {
        "id": "0OPwcWV1mU8E"
      },
      "outputs": [],
      "source": [
        "import tensorflow as tf\n",
        "from PIL import Image\n",
        "import os\n",
        "os.chdir(\"C:/Users/Bhavin Joshi/Desktop/New Folder\")\n",
        "from sklearn.model_selection import train_test_split\n",
        "from keras.utils import to_categorical\n",
        "from keras.models import Sequential,load_model\n",
        "from keras.layers import Conv2D,MaxPool2D,Dense,Flatten,Dropout"
      ]
    },
    {
      "cell_type": "code",
      "execution_count": null,
      "metadata": {
        "id": "9dFaTbdlmcwC"
      },
      "outputs": [],
      "source": [
        "data=[]\n",
        "labels=[]\n",
        "classes=43\n",
        "cur_path=os.getcwd()"
      ]
    },
    {
      "cell_type": "markdown",
      "metadata": {
        "id": "utiv69fimsOY"
      },
      "source": [
        "# Preprocess the images"
      ]
    },
    {
      "cell_type": "code",
      "execution_count": null,
      "metadata": {
        "id": "2olRzzW3mdNu"
      },
      "outputs": [],
      "source": [
        "for i in range(classes):\n",
        "    path=os.path.join(cur_path,'train',str(i))\n",
        "    images=os.listdir(path)\n",
        "    for a in images:\n",
        "        try:\n",
        "            image=Image.open(path+'\\\\'+a)\n",
        "            image=image.resize((30,30))\n",
        "            image=np.array(image)\n",
        "            data.append(image)\n",
        "            labels.append(i)\n",
        "        except Exception as e:\n",
        "            print(e)"
      ]
    },
    {
      "cell_type": "markdown",
      "metadata": {
        "id": "wAs9CRLVmyxN"
      },
      "source": [
        "# Converting lists into numpy arrays "
      ]
    },
    {
      "cell_type": "code",
      "execution_count": null,
      "metadata": {
        "id": "vycz8C28mdUN"
      },
      "outputs": [],
      "source": [
        "data=np.array(data)\n",
        "labels=np.array(labels)"
      ]
    },
    {
      "cell_type": "code",
      "execution_count": null,
      "metadata": {
        "id": "C9XCEl9GmdW1"
      },
      "outputs": [],
      "source": [
        "os.mkdir('training')\n",
        "np.save('./training/data',data)\n",
        "np.save('./training/target',labels)"
      ]
    },
    {
      "cell_type": "markdown",
      "source": [
        "Load data and Labels"
      ],
      "metadata": {
        "id": "twWny5nonIrR"
      }
    },
    {
      "cell_type": "code",
      "execution_count": null,
      "metadata": {
        "id": "e3aDEM_Hmdca"
      },
      "outputs": [],
      "source": [
        "data=np.load('./training/data.npy')\n",
        "labels=np.load('./training/target.npy')"
      ]
    },
    {
      "cell_type": "code",
      "execution_count": null,
      "metadata": {
        "id": "zY3N1V1bmdfQ"
      },
      "outputs": [],
      "source": [
        "print(data.shape,labels.shape)"
      ]
    },
    {
      "cell_type": "code",
      "execution_count": null,
      "metadata": {
        "id": "fMrhid4OmdhS"
      },
      "outputs": [],
      "source": [
        "X_train,X_test,y_train,y_test=train_test_split(data,labels,test_size=0.2,random_state=0)"
      ]
    },
    {
      "cell_type": "code",
      "execution_count": null,
      "metadata": {
        "id": "jAV_uSg8mdjp"
      },
      "outputs": [],
      "source": [
        "print(X_train.shape,X_test.shape,y_train.shape,y_test.shape)"
      ]
    },
    {
      "cell_type": "code",
      "execution_count": null,
      "metadata": {
        "id": "Zwk-80ASmdmS"
      },
      "outputs": [],
      "source": [
        "y_train=to_categorical(y_train,43)\n",
        "y_test=to_categorical(y_test,43)"
      ]
    },
    {
      "cell_type": "code",
      "source": [
        "model=Sequential()\n",
        "model.add(Conv2D(filters=32,kernel_size=(5,5),activation='relu',input_shape=X_train.shape[1:]))\n",
        "model.add(Conv2D(filters=32,kernel_size=(5,5),activation='relu'))\n",
        "model.add(MaxPool2D(pool_size=(2,2)))\n",
        "model.add(Dropout(rate=0.25))\n",
        "model.add(Conv2D(filters=64,kernel_size=(3,3),activation='relu'))\n",
        "model.add(Conv2D(filters=64,kernel_size=(3,3),activation='relu'))\n",
        "model.add(MaxPool2D(pool_size=(2,2)))\n",
        "model.add(Dropout(rate=0.25))\n",
        "model.add(Flatten())\n",
        "model.add(Dense(256,activation='relu'))\n",
        "model.add(Dropout(rate=0.5))\n",
        "model.add(Dense(43,activation='softmax'))"
      ],
      "metadata": {
        "id": "LvNgnr0cnUQv"
      },
      "execution_count": null,
      "outputs": []
    },
    {
      "cell_type": "code",
      "source": [
        "model.compile(loss='categorical_crossentropy',optimizer='adam',metrics=['accuracy'])"
      ],
      "metadata": {
        "id": "X1UsOm01nUaa"
      },
      "execution_count": null,
      "outputs": []
    },
    {
      "cell_type": "code",
      "source": [
        "epochs=20\n",
        "history=model.fit(X_train,y_train,batch_size=32,epochs=epochs,validation_data=(X_test,y_test))"
      ],
      "metadata": {
        "id": "AmVPneHJnUc_"
      },
      "execution_count": null,
      "outputs": []
    },
    {
      "cell_type": "code",
      "source": [
        "plt.figure(0)\n",
        "plt.plot(history.history['accuracy'],label='training accuracy')\n",
        "plt.plot(history.history['val_accuracy'],label='val accuracy')\n",
        "plt.title('Accuracy')\n",
        "plt.xlabel('epochs')\n",
        "plt.ylabel('accuracy')\n",
        "plt.legend()\n",
        "plt.show()"
      ],
      "metadata": {
        "id": "dqRtwFomnbIn"
      },
      "execution_count": null,
      "outputs": []
    },
    {
      "cell_type": "markdown",
      "source": [
        "TESTING"
      ],
      "metadata": {
        "id": "nmBcqfB0ngFI"
      }
    },
    {
      "cell_type": "code",
      "source": [
        "def testing(testcsv):\n",
        "    y_test=pd.read_csv(testcsv)\n",
        "    label=y_test['ClassId'].values\n",
        "    imgs=y_test['Path'].values\n",
        "    data=[]\n",
        "    for img in imgs:\n",
        "        image=Image.open(img)\n",
        "        image=image.resize((30,30))\n",
        "        data.append(np.array(image))\n",
        "    x_test=np.array(data)\n",
        "    return x_test,label"
      ],
      "metadata": {
        "id": "fwSs9WzonbLl"
      },
      "execution_count": null,
      "outputs": []
    },
    {
      "cell_type": "code",
      "source": [
        "X_test,label=testing('Test.csv')"
      ],
      "metadata": {
        "id": "IwwLYlmEnbOX"
      },
      "execution_count": null,
      "outputs": []
    },
    {
      "cell_type": "code",
      "source": [
        "Y_pred = np.argmax(model.predict(X_test),axis=1)\n",
        "Y_pred"
      ],
      "metadata": {
        "id": "1q71dCDwnbR1"
      },
      "execution_count": null,
      "outputs": []
    },
    {
      "cell_type": "code",
      "source": [
        "from sklearn.metrics import accuracy_score\n",
        "print(accuracy_score(label,Y_pred))"
      ],
      "metadata": {
        "id": "Bd8obSMknmkd"
      },
      "execution_count": null,
      "outputs": []
    },
    {
      "cell_type": "code",
      "source": [
        "model.save(\"./training/TSR.h5\")"
      ],
      "metadata": {
        "id": "ufMI-0hjnmtn"
      },
      "execution_count": null,
      "outputs": []
    },
    {
      "cell_type": "code",
      "source": [
        "import os\n",
        "os.chdir(\"C:/Users/Bhavin Joshi/Desktop/New Folder\")\n",
        "from keras.models import load_model\n",
        "model=load_model(\"./training/TSR.h5\")"
      ],
      "metadata": {
        "id": "_XSJOL0VnmwQ"
      },
      "execution_count": null,
      "outputs": []
    },
    {
      "cell_type": "code",
      "source": [
        "classes = { 1:'Speed limit (20km/h)',\n",
        "            2:'Speed limit (30km/h)', \n",
        "            3:'Speed limit (50km/h)', \n",
        "            4:'Speed limit (60km/h)', \n",
        "            5:'Speed limit (70km/h)', \n",
        "            6:'Speed limit (80km/h)', \n",
        "            7:'End of speed limit (80km/h)', \n",
        "            8:'Speed limit (100km/h)', \n",
        "            9:'Speed limit (120km/h)', \n",
        "            10:'No passing', \n",
        "            11:'No passing veh over 3.5 tons', \n",
        "            12:'Right-of-way at intersection', \n",
        "            13:'Priority road', \n",
        "            14:'Yield', \n",
        "            15:'Stop', \n",
        "            16:'No vehicles', \n",
        "            17:'Veh > 3.5 tons prohibited', \n",
        "            18:'No entry', \n",
        "            19:'General caution', \n",
        "            20:'Dangerous curve left', \n",
        "            21:'Dangerous curve right', \n",
        "            22:'Double curve', \n",
        "            23:'Bumpy road', \n",
        "            24:'Slippery road', \n",
        "            25:'Road narrows on the right', \n",
        "            26:'Road work', \n",
        "            27:'Traffic signals', \n",
        "            28:'Pedestrians', \n",
        "            29:'Children crossing', \n",
        "            30:'Bicycles crossing', \n",
        "            31:'Beware of ice/snow',\n",
        "            32:'Wild animals crossing', \n",
        "            33:'End speed + passing limits', \n",
        "            34:'Turn right ahead', \n",
        "            35:'Turn left ahead', \n",
        "            36:'Ahead only', \n",
        "            37:'Go straight or right', \n",
        "            38:'Go straight or left', \n",
        "            39:'Keep right', \n",
        "            40:'Keep left', \n",
        "            41:'Roundabout mandatory', \n",
        "            42:'End of no passing', \n",
        "            43:'End no passing veh > 3.5 tons' }"
      ],
      "metadata": {
        "id": "FE9p7bubnmzC"
      },
      "execution_count": null,
      "outputs": []
    },
    {
      "cell_type": "code",
      "source": [
        "from PIL import Image\n",
        "import numpy as np\n",
        "import matplotlib.pyplot as plt\n",
        "def test_on_img(img):\n",
        "    data=[]\n",
        "    image=Image.open(img)\n",
        "    image=image.resize((30,30))\n",
        "    data.append(np.array(image))\n",
        "    X_test=np.array(data)\n",
        "    Y_pred = np.argmax(model.predict(X_test),axis=1)\n",
        "    return image,Y_pred"
      ],
      "metadata": {
        "id": "U9oe6Oh2nuMZ"
      },
      "execution_count": null,
      "outputs": []
    },
    {
      "cell_type": "code",
      "source": [
        "plot,prediction=test_on_img(\"C:/Users/Bhavin Joshi/Desktop/New folder/Train/34/00034_00000_00002.png\")\n",
        "s=[str(i)for i in prediction]\n",
        "a=int(\"\".join(s))\n",
        "print(\"Predicted Sign is\",classes[a+1])\n",
        "plt.imshow(plot)\n",
        "plt.show()"
      ],
      "metadata": {
        "id": "d74yju10nuO_"
      },
      "execution_count": null,
      "outputs": []
    }
  ],
  "metadata": {
    "colab": {
      "provenance": [],
      "authorship_tag": "ABX9TyOHPk4CzSvMK6NYdn+UTHJk",
      "include_colab_link": true
    },
    "kernelspec": {
      "display_name": "Python 3",
      "name": "python3"
    },
    "language_info": {
      "name": "python"
    }
  },
  "nbformat": 4,
  "nbformat_minor": 0
}